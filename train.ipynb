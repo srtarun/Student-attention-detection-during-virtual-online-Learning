{
 "cells": [
  {
   "cell_type": "code",
   "execution_count": 3,
   "id": "49ec5745-e308-495d-889a-d463769faa6c",
   "metadata": {},
   "outputs": [],
   "source": [
    "from torch.utils.data import DataLoader\n",
    "import torchvision"
   ]
  },
  {
   "cell_type": "code",
   "execution_count": null,
   "id": "5c20e248-37eb-4994-865e-d02dbd5e1a02",
   "metadata": {},
   "outputs": [],
   "source": [
    "import torchvision\n",
    "\n",
    "\n",
    "\n",
    "def generate_dataloader(batch_size, csv, root):\n",
    "    dataset = datasets.VideoDataset(csv,\n",
    "                                    root,\n",
    "                                    transform=torchvision.transforms.Compose([transforms.VideoFolderPathToTensor()]))\n",
    "\n",
    "    return DataLoader(dataset,\n",
    "                      batch_size=batch_size,\n",
    "                      shuffle=True,\n",
    "                      num_workers=4)\n",
    "\n",
    "\n",
    "def get_dataloader(batch_size, csv_train, root_train, csv_test, root_test):\n",
    "    return {\n",
    "        'train': generate_dataloader(batch_size, csv_train, root_train),\n",
    "        'test': generate_dataloader(batch_size, csv_test, root_test)}"
   ]
  }
 ],
 "metadata": {
  "kernelspec": {
   "display_name": "ELIR-p39",
   "language": "python",
   "name": "elir-p39"
  },
  "language_info": {
   "codemirror_mode": {
    "name": "ipython",
    "version": 3
   },
   "file_extension": ".py",
   "mimetype": "text/x-python",
   "name": "python",
   "nbconvert_exporter": "python",
   "pygments_lexer": "ipython3",
   "version": "3.9.18"
  }
 },
 "nbformat": 4,
 "nbformat_minor": 5
}
