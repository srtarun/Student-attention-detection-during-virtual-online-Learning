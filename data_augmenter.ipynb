{
 "cells": [
  {
   "cell_type": "code",
   "execution_count": 41,
   "id": "b1eabe42-028a-4fb0-ac5a-be38144c8dbc",
   "metadata": {},
   "outputs": [],
   "source": [
    "import shutil\n",
    "import pandas as pd"
   ]
  },
  {
   "cell_type": "code",
   "execution_count": 42,
   "id": "73b68a1a-5a82-4ff7-8eb1-66e95ad30a25",
   "metadata": {},
   "outputs": [],
   "source": [
    "data = pd.read_csv(\"Train.csv\")"
   ]
  },
  {
   "cell_type": "code",
   "execution_count": null,
   "id": "b303bd3f-f68e-4dfb-852c-415bd6918d58",
   "metadata": {},
   "outputs": [],
   "source": []
  },
  {
   "cell_type": "code",
   "execution_count": 43,
   "id": "e3bda118-826e-411d-804c-0103e4203ade",
   "metadata": {},
   "outputs": [],
   "source": [
    "data_to_augment = data[ data[\"label\"]==0 ]"
   ]
  },
  {
   "cell_type": "code",
   "execution_count": 44,
   "id": "c63349a7-cab4-4e1c-9f5f-26e2a6a998ea",
   "metadata": {},
   "outputs": [
    {
     "name": "stdout",
     "output_type": "stream",
     "text": [
      "(34, 3)\n"
     ]
    },
    {
     "data": {
      "text/html": [
       "<div>\n",
       "<style scoped>\n",
       "    .dataframe tbody tr th:only-of-type {\n",
       "        vertical-align: middle;\n",
       "    }\n",
       "\n",
       "    .dataframe tbody tr th {\n",
       "        vertical-align: top;\n",
       "    }\n",
       "\n",
       "    .dataframe thead th {\n",
       "        text-align: right;\n",
       "    }\n",
       "</style>\n",
       "<table border=\"1\" class=\"dataframe\">\n",
       "  <thead>\n",
       "    <tr style=\"text-align: right;\">\n",
       "      <th></th>\n",
       "      <th>Unnamed: 0</th>\n",
       "      <th>path</th>\n",
       "      <th>label</th>\n",
       "    </tr>\n",
       "  </thead>\n",
       "  <tbody>\n",
       "    <tr>\n",
       "      <th>1010</th>\n",
       "      <td>1010</td>\n",
       "      <td>DAiSEE/DataSet/TrainFrames/210055/2100551005</td>\n",
       "      <td>0</td>\n",
       "    </tr>\n",
       "    <tr>\n",
       "      <th>1133</th>\n",
       "      <td>1133</td>\n",
       "      <td>DAiSEE/DataSet/TrainFrames/310075/3100751007</td>\n",
       "      <td>0</td>\n",
       "    </tr>\n",
       "    <tr>\n",
       "      <th>1187</th>\n",
       "      <td>1187</td>\n",
       "      <td>DAiSEE/DataSet/TrainFrames/310075/3100751010</td>\n",
       "      <td>0</td>\n",
       "    </tr>\n",
       "    <tr>\n",
       "      <th>1476</th>\n",
       "      <td>1476</td>\n",
       "      <td>DAiSEE/DataSet/TrainFrames/181374/1813740138</td>\n",
       "      <td>0</td>\n",
       "    </tr>\n",
       "    <tr>\n",
       "      <th>2032</th>\n",
       "      <td>2032</td>\n",
       "      <td>DAiSEE/DataSet/TrainFrames/210058/2100582052</td>\n",
       "      <td>0</td>\n",
       "    </tr>\n",
       "  </tbody>\n",
       "</table>\n",
       "</div>"
      ],
      "text/plain": [
       "      Unnamed: 0                                          path  label\n",
       "1010        1010  DAiSEE/DataSet/TrainFrames/210055/2100551005      0\n",
       "1133        1133  DAiSEE/DataSet/TrainFrames/310075/3100751007      0\n",
       "1187        1187  DAiSEE/DataSet/TrainFrames/310075/3100751010      0\n",
       "1476        1476  DAiSEE/DataSet/TrainFrames/181374/1813740138      0\n",
       "2032        2032  DAiSEE/DataSet/TrainFrames/210058/2100582052      0"
      ]
     },
     "execution_count": 44,
     "metadata": {},
     "output_type": "execute_result"
    }
   ],
   "source": [
    "print(data_to_augment.shape)\n",
    "data_to_augment.head()"
   ]
  },
  {
   "cell_type": "code",
   "execution_count": 45,
   "id": "a1f7f5ed-0e60-4cd8-8136-1f639f038055",
   "metadata": {},
   "outputs": [],
   "source": [
    "n = 10\n",
    "for _,row in data_to_augment.iterrows():\n",
    "    path = row[\"path\"]\n",
    "    for i in range(n):\n",
    "        new_path = path+\"-cp\"+str(i)\n",
    "        shutil.copytree(path,new_path)\n",
    "        # new_row = {data.columns[0]:\"\", data.columns[1]:new_path, data.columns[2]:\"0\"}\n",
    "        # data_to_augment = pd.concat([data_to_augment, pd.DataFrame(new_row)], ignore_index=True)\n",
    "        data.loc[len(data)] = [\"\", new_path,\"0\"]\n",
    "        "
   ]
  },
  {
   "cell_type": "code",
   "execution_count": 46,
   "id": "11fb428a-8170-4ae3-be38-829400198de4",
   "metadata": {},
   "outputs": [
    {
     "data": {
      "text/html": [
       "<div>\n",
       "<style scoped>\n",
       "    .dataframe tbody tr th:only-of-type {\n",
       "        vertical-align: middle;\n",
       "    }\n",
       "\n",
       "    .dataframe tbody tr th {\n",
       "        vertical-align: top;\n",
       "    }\n",
       "\n",
       "    .dataframe thead th {\n",
       "        text-align: right;\n",
       "    }\n",
       "</style>\n",
       "<table border=\"1\" class=\"dataframe\">\n",
       "  <thead>\n",
       "    <tr style=\"text-align: right;\">\n",
       "      <th></th>\n",
       "      <th>Unnamed: 0</th>\n",
       "      <th>path</th>\n",
       "      <th>label</th>\n",
       "    </tr>\n",
       "  </thead>\n",
       "  <tbody>\n",
       "    <tr>\n",
       "      <th>5693</th>\n",
       "      <td></td>\n",
       "      <td>DAiSEE/DataSet/TrainFrames/111003/1110031063-cp5</td>\n",
       "      <td>0</td>\n",
       "    </tr>\n",
       "    <tr>\n",
       "      <th>5694</th>\n",
       "      <td></td>\n",
       "      <td>DAiSEE/DataSet/TrainFrames/111003/1110031063-cp6</td>\n",
       "      <td>0</td>\n",
       "    </tr>\n",
       "    <tr>\n",
       "      <th>5695</th>\n",
       "      <td></td>\n",
       "      <td>DAiSEE/DataSet/TrainFrames/111003/1110031063-cp7</td>\n",
       "      <td>0</td>\n",
       "    </tr>\n",
       "    <tr>\n",
       "      <th>5696</th>\n",
       "      <td></td>\n",
       "      <td>DAiSEE/DataSet/TrainFrames/111003/1110031063-cp8</td>\n",
       "      <td>0</td>\n",
       "    </tr>\n",
       "    <tr>\n",
       "      <th>5697</th>\n",
       "      <td></td>\n",
       "      <td>DAiSEE/DataSet/TrainFrames/111003/1110031063-cp9</td>\n",
       "      <td>0</td>\n",
       "    </tr>\n",
       "  </tbody>\n",
       "</table>\n",
       "</div>"
      ],
      "text/plain": [
       "     Unnamed: 0                                              path label\n",
       "5693             DAiSEE/DataSet/TrainFrames/111003/1110031063-cp5     0\n",
       "5694             DAiSEE/DataSet/TrainFrames/111003/1110031063-cp6     0\n",
       "5695             DAiSEE/DataSet/TrainFrames/111003/1110031063-cp7     0\n",
       "5696             DAiSEE/DataSet/TrainFrames/111003/1110031063-cp8     0\n",
       "5697             DAiSEE/DataSet/TrainFrames/111003/1110031063-cp9     0"
      ]
     },
     "execution_count": 46,
     "metadata": {},
     "output_type": "execute_result"
    }
   ],
   "source": [
    "data.tail()"
   ]
  },
  {
   "cell_type": "code",
   "execution_count": 47,
   "id": "433df351-182d-4e00-bfe5-2d87c70664d7",
   "metadata": {},
   "outputs": [],
   "source": [
    "data.to_csv(\"Train.csv\")"
   ]
  },
  {
   "cell_type": "code",
   "execution_count": null,
   "id": "2a39b364-f480-48b3-b05d-6dc2aef7a094",
   "metadata": {},
   "outputs": [],
   "source": []
  }
 ],
 "metadata": {
  "kernelspec": {
   "display_name": "ELIR-p39",
   "language": "python",
   "name": "elir-p39"
  },
  "language_info": {
   "codemirror_mode": {
    "name": "ipython",
    "version": 3
   },
   "file_extension": ".py",
   "mimetype": "text/x-python",
   "name": "python",
   "nbconvert_exporter": "python",
   "pygments_lexer": "ipython3",
   "version": "3.9.18"
  }
 },
 "nbformat": 4,
 "nbformat_minor": 5
}
